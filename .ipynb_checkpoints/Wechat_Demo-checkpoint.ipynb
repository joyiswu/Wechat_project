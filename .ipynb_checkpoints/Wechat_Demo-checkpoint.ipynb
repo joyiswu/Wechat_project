{
 "cells": [
  {
   "cell_type": "code",
   "execution_count": 1,
   "metadata": {
    "scrolled": true
   },
   "outputs": [
    {
     "name": "stdout",
     "output_type": "stream",
     "text": [
      "█\r"
     ]
    }
   ],
   "source": [
    "import itchat\n",
    "import numpy as np\n",
    "import pandas as pd\n",
    "from collections import defaultdict\n",
    "import re\n",
    "import os\n",
    "import matplotlib.pyplot as plt\n",
    "from wordcloud import WordCloud, ImageColorGenerator\n",
    "import PIL.Image as Image\n",
    "import jieba"
   ]
  },
  {
   "cell_type": "code",
   "execution_count": null,
   "metadata": {
    "scrolled": true
   },
   "outputs": [
    {
     "name": "stderr",
     "output_type": "stream",
     "text": [
      "Getting uuid of QR code.\n",
      "Downloading QR code.\n",
      "Please scan the QR code to log in.\n"
     ]
    }
   ],
   "source": [
    "itchat.login()"
   ]
  },
  {
   "cell_type": "code",
   "execution_count": 115,
   "metadata": {},
   "outputs": [],
   "source": [
    "# friend information\n",
    "friends = itchat.get_friends(update=True)"
   ]
  },
  {
   "cell_type": "code",
   "execution_count": 116,
   "metadata": {},
   "outputs": [
    {
     "name": "stdout",
     "output_type": "stream",
     "text": [
      "File 曾嘉诚 creat successfully\n"
     ]
    }
   ],
   "source": [
    "NickName = friends[0].NickName #获取自己的昵称\n",
    "os.chdir('/Users/joy/Desktop/Project/Wechat') #切换路径\n",
    "try:\n",
    "    os.mkdir(NickName) #为自己创建一个文件夹\n",
    "    print('File', NickName, 'creat successfully')\n",
    "except: \n",
    "    print('File', NickName, 'has already existed')"
   ]
  },
  {
   "cell_type": "code",
   "execution_count": 117,
   "metadata": {},
   "outputs": [],
   "source": [
    "file = '/%s' %NickName #刚刚创建的那个文件夹的相对路径\n",
    "cp = os.getcwd() #当前路径\n",
    "path = os.path.join(cp+file) #刚刚创建的那个文件夹的绝对路径\n",
    "os.chdir(path) #切换路径"
   ]
  },
  {
   "cell_type": "code",
   "execution_count": 118,
   "metadata": {},
   "outputs": [
    {
     "data": {
      "text/plain": [
       "'/Users/joy/Desktop/Project/Wechat/曾嘉诚'"
      ]
     },
     "execution_count": 118,
     "metadata": {},
     "output_type": "execute_result"
    }
   ],
   "source": [
    "cp = os.getcwd() #当前路径\n",
    "cp"
   ]
  },
  {
   "cell_type": "code",
   "execution_count": 119,
   "metadata": {},
   "outputs": [
    {
     "data": {
      "text/plain": [
       "533"
      ]
     },
     "execution_count": 119,
     "metadata": {},
     "output_type": "execute_result"
    }
   ],
   "source": [
    "number_of_friends = len(friends)\n",
    "\n",
    "df_friends = pd.DataFrame(friends)\n",
    "\n",
    "number_of_friends"
   ]
  },
  {
   "cell_type": "code",
   "execution_count": 120,
   "metadata": {},
   "outputs": [],
   "source": [
    "# 男性为1；女性为2；未知为0；\n",
    "def get_count(Sequence):\n",
    "\n",
    "    counts = defaultdict(int) #初始化一个字典\n",
    "\n",
    "    for x in Sex:\n",
    "\n",
    "        counts[x] += 1\n",
    "\n",
    "    return counts"
   ]
  },
  {
   "cell_type": "code",
   "execution_count": 121,
   "metadata": {},
   "outputs": [],
   "source": [
    "#获取性别信息：\n",
    "Sex = df_friends.Sex\n",
    "Sex_count = get_count(Sex )"
   ]
  },
  {
   "cell_type": "code",
   "execution_count": 122,
   "metadata": {},
   "outputs": [
    {
     "data": {
      "text/plain": [
       "<matplotlib.axes._subplots.AxesSubplot at 0x11ec54a90>"
      ]
     },
     "execution_count": 122,
     "metadata": {},
     "output_type": "execute_result"
    },
    {
     "data": {
      "image/png": "[encoded data removed]",
      "text/plain": [
       "<matplotlib.figure.Figure at 0x10c48e908>"
      ]
     },
     "metadata": {},
     "output_type": "display_data"
    }
   ],
   "source": [
    "Sex_count = Sex.value_counts() #defaultdict(int, {0: 31, 1: 292, 2: 245})\n",
    "Sex_count.plot(kind = 'bar')"
   ]
  },
  {
   "cell_type": "markdown",
   "metadata": {},
   "source": [
    "#### 好友来自什么地方"
   ]
  },
  {
   "cell_type": "code",
   "execution_count": 123,
   "metadata": {},
   "outputs": [],
   "source": [
    "Province = df_friends.Province\n",
    "\n",
    "Province_count = Province.value_counts()\n",
    "\n",
    "#有一些好友地理信息为空，过滤掉这一部分人。\n",
    "Province_count = Province_count[Province_count.index!='']"
   ]
  },
  {
   "cell_type": "code",
   "execution_count": 124,
   "metadata": {},
   "outputs": [],
   "source": [
    "City = df_friends.City #[(df_friends.Province=='北京') | (df_friends.Province=='四川')]\n",
    "\n",
    "City_count = City.value_counts()\n",
    "\n",
    "City_count = City_count[City_count.index!='']"
   ]
  },
  {
   "cell_type": "code",
   "execution_count": 125,
   "metadata": {},
   "outputs": [],
   "source": [
    "file_name_all = NickName+'_basic_inf.txt' \n",
    "\n",
    "write_file = open(file_name_all,'w')\n",
    "\n",
    "write_file.write('你共有%d个好友,其中有%d个男生，%d个女生，%d未显示性别。\\n\\n' %(number_of_friends, Sex_count[1], Sex_count[2], Sex_count[0])+\n",
    "\n",
    "                 '你的朋友主要来自省份：%s(%d)、%s(%d)和%s(%d)。\\n\\n' %(Province_count.index[0],Province_count[0],Province_count.index[1],Province_count[1],Province_count.index[2],Province_count[2])+\n",
    "                 '主要来自这些城市：%s(%d)、%s(%d)、%s(%d)、%s(%d)、%s(%d)和%s(%d)。'%(City_count.index[0],City_count[0],City_count.index[1],City_count[1],City_count.index[2],City_count[2],City_count.index[3],City_count[3],City_count.index[4],City_count[4],City_count.index[5],City_count[5]))\n",
    "\n",
    "write_file.close()"
   ]
  },
  {
   "cell_type": "markdown",
   "metadata": {},
   "source": [
    "## 分析好友签名"
   ]
  },
  {
   "cell_type": "code",
   "execution_count": 126,
   "metadata": {},
   "outputs": [],
   "source": [
    "Signatures = df_friends.Signature\n",
    "\n",
    "regex1 = re.compile('<span.*?</span>') #匹配表情\n",
    "\n",
    "regex2 = re.compile('\\s{2,}')#匹配两个以上占位符。\n",
    "\n",
    "Signatures = [regex2.sub(' ',regex1.sub('',signature,re.S)) for signature in Signatures] #用一个空格替换表情和多个空格。\n",
    "\n",
    "Signatures = [signature for signature in Signatures if len(signature)>0] #去除空字符串"
   ]
  },
  {
   "cell_type": "code",
   "execution_count": 127,
   "metadata": {},
   "outputs": [],
   "source": [
    "text = ' '.join(Signatures)\n",
    "\n",
    "file_name = NickName+'_wechat_signatures.txt'\n",
    "\n",
    "with open(file_name,'w',encoding='utf-8') as f:\n",
    "\n",
    "    f.write(text)\n",
    "    f.close()"
   ]
  },
  {
   "cell_type": "code",
   "execution_count": 128,
   "metadata": {},
   "outputs": [],
   "source": [
    "wordlist = jieba.cut(text, cut_all=True)\n",
    "\n",
    "word_space_split = ' '.join(wordlist)"
   ]
  },
  {
   "cell_type": "code",
   "execution_count": 129,
   "metadata": {},
   "outputs": [
    {
     "data": {
      "text/plain": [
       "<wordcloud.wordcloud.WordCloud at 0x1102d4f98>"
      ]
     },
     "execution_count": 129,
     "metadata": {},
     "output_type": "execute_result"
    }
   ],
   "source": [
    "my_wordcloud = WordCloud(background_color=\"white\", max_words=2000, \n",
    "                         max_font_size=60, random_state=42,scale=2,\n",
    "                         font_path=\"/System/Library/fonts/PingFang.ttc\").generate(word_space_split) #生成词云。font_path=\"C:\\Windows\\Fonts\\msyhl.ttc\"指定字体，有些字不能解析中文，这种情况下会出现乱码。\n",
    "file_name_p = NickName+'.jpg'\n",
    "my_wordcloud.to_file(file_name_p) #保存图片"
   ]
  },
  {
   "cell_type": "code",
   "execution_count": 130,
   "metadata": {},
   "outputs": [
    {
     "name": "stderr",
     "output_type": "stream",
     "text": [
      "LOG OUT!\n"
     ]
    },
    {
     "data": {
      "text/plain": [
       "<ItchatReturnValue: {'BaseResponse': {'ErrMsg': '请求成功', 'Ret': 0, 'RawMsg': 'logout successfully.'}}>"
      ]
     },
     "execution_count": 130,
     "metadata": {},
     "output_type": "execute_result"
    }
   ],
   "source": [
    "itchat.logout()"
   ]
  },
  {
   "cell_type": "code",
   "execution_count": null,
   "metadata": {},
   "outputs": [],
   "source": []
  },
  {
   "cell_type": "code",
   "execution_count": null,
   "metadata": {},
   "outputs": [],
   "source": []
  },
  {
   "cell_type": "code",
   "execution_count": null,
   "metadata": {},
   "outputs": [],
   "source": []
  },
  {
   "cell_type": "code",
   "execution_count": null,
   "metadata": {},
   "outputs": [],
   "source": []
  },
  {
   "cell_type": "code",
   "execution_count": null,
   "metadata": {},
   "outputs": [],
   "source": []
  },
  {
   "cell_type": "code",
   "execution_count": null,
   "metadata": {},
   "outputs": [],
   "source": []
  },
  {
   "cell_type": "code",
   "execution_count": null,
   "metadata": {},
   "outputs": [],
   "source": []
  },
  {
   "cell_type": "code",
   "execution_count": null,
   "metadata": {},
   "outputs": [],
   "source": []
  }
 ],
 "metadata": {
  "kernelspec": {
   "display_name": "Python 3",
   "language": "python",
   "name": "python3"
  },
  "language_info": {
   "codemirror_mode": {
    "name": "ipython",
    "version": 3
   },
   "file_extension": ".py",
   "mimetype": "text/x-python",
   "name": "python",
   "nbconvert_exporter": "python",
   "pygments_lexer": "ipython3",
   "version": "3.6.4"
  }
 },
 "nbformat": 4,
 "nbformat_minor": 1
}
